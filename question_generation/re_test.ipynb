{
 "cells": [
  {
   "metadata": {
    "ExecuteTime": {
     "end_time": "2025-07-31T02:35:41.810087Z",
     "start_time": "2025-07-31T02:35:41.808260Z"
    }
   },
   "cell_type": "code",
   "source": "import re",
   "id": "d1aa57dbf0fa20b5",
   "outputs": [],
   "execution_count": 14
  },
  {
   "metadata": {
    "ExecuteTime": {
     "end_time": "2025-07-31T02:35:41.822006Z",
     "start_time": "2025-07-31T02:35:41.820055Z"
    }
   },
   "cell_type": "code",
   "source": [
    "cypher_query = \"MATCH (i)~[:contains]~~<o{color:'purple'}>\\nWITH i,o\\nMATCH (i)~[:contains],~~<o2{size:'large',color:'red'}>, (i)~[:contains]~~<o3{color:'cyan'}>~~[:front]~<o2>\\nRETURN o.size = o3.size as same\"\n",
    "print(cypher_query)"
   ],
   "id": "e7d9ddcca5d9a6c1",
   "outputs": [
    {
     "name": "stdout",
     "output_type": "stream",
     "text": [
      "MATCH (i)~[:contains]~~<o{color:'purple'}>\n",
      "WITH i,o\n",
      "MATCH (i)~[:contains],~~<o2{size:'large',color:'red'}>, (i)~[:contains]~~<o3{color:'cyan'}>~~[:front]~<o2>\n",
      "RETURN o.size = o3.size as same\n"
     ]
    }
   ],
   "execution_count": 15
  },
  {
   "metadata": {
    "collapsed": true,
    "ExecuteTime": {
     "end_time": "2025-07-31T02:35:41.835995Z",
     "start_time": "2025-07-31T02:35:41.833752Z"
    }
   },
   "cell_type": "code",
   "source": [
    "cypher_query = re.sub(r'<([^>]+)>', r'(\\1)', cypher_query)\n",
    "print(cypher_query)"
   ],
   "id": "initial_id",
   "outputs": [
    {
     "name": "stdout",
     "output_type": "stream",
     "text": [
      "MATCH (i)~[:contains]~~(o{color:'purple'})\n",
      "WITH i,o\n",
      "MATCH (i)~[:contains],~~(o2{size:'large',color:'red'}), (i)~[:contains]~~(o3{color:'cyan'})~~[:front]~(o2)\n",
      "RETURN o.size = o3.size as same\n"
     ]
    }
   ],
   "execution_count": 16
  },
  {
   "metadata": {
    "ExecuteTime": {
     "end_time": "2025-07-31T02:35:41.870655Z",
     "start_time": "2025-07-31T02:35:41.868130Z"
    }
   },
   "cell_type": "code",
   "source": [
    "cypher_query = re.sub(r'~\\[([^\\[\\]]+)\\]~~', r'-[\\1]->', cypher_query)\n",
    "print(cypher_query)\n"
   ],
   "id": "1c5694181d969ec",
   "outputs": [
    {
     "name": "stdout",
     "output_type": "stream",
     "text": [
      "MATCH (i)-[:contains]->(o{color:'purple'})\n",
      "WITH i,o\n",
      "MATCH (i)~[:contains],~~(o2{size:'large',color:'red'}), (i)-[:contains]->(o3{color:'cyan'})~~[:front]~(o2)\n",
      "RETURN o.size = o3.size as same\n"
     ]
    }
   ],
   "execution_count": 17
  },
  {
   "metadata": {
    "ExecuteTime": {
     "end_time": "2025-07-31T02:35:41.884425Z",
     "start_time": "2025-07-31T02:35:41.882298Z"
    }
   },
   "cell_type": "code",
   "source": [
    "cypher_query = re.sub(r'~~\\[([^\\[\\]]+)\\]~', r'<-[\\1]-', cypher_query)\n",
    "print(cypher_query)\n"
   ],
   "id": "b4d8aa8a7ba6f734",
   "outputs": [
    {
     "name": "stdout",
     "output_type": "stream",
     "text": [
      "MATCH (i)-[:contains]->(o{color:'purple'})\n",
      "WITH i,o\n",
      "MATCH (i)~[:contains],~~(o2{size:'large',color:'red'}), (i)-[:contains]->(o3{color:'cyan'})<-[:front]-(o2)\n",
      "RETURN o.size = o3.size as same\n"
     ]
    }
   ],
   "execution_count": 18
  }
 ],
 "metadata": {
  "kernelspec": {
   "display_name": "Python 3",
   "language": "python",
   "name": "python3"
  },
  "language_info": {
   "codemirror_mode": {
    "name": "ipython",
    "version": 2
   },
   "file_extension": ".py",
   "mimetype": "text/x-python",
   "name": "python",
   "nbconvert_exporter": "python",
   "pygments_lexer": "ipython2",
   "version": "2.7.6"
  }
 },
 "nbformat": 4,
 "nbformat_minor": 5
}
